{
 "cells": [
  {
   "cell_type": "code",
   "execution_count": 837,
   "id": "10ef7f1b-a38c-4741-8db8-d9d15d7cee1a",
   "metadata": {
    "jupyter": {
     "source_hidden": true
    },
    "tags": []
   },
   "outputs": [],
   "source": [
    "import pandas as pd\n",
    "df=pd.read_csv(\"gapminder.tsv\",delimiter=\"\\t\")\n",
    "pd.set_option('display.float_format', lambda x: '%.9f' % x)"
   ]
  },
  {
   "cell_type": "code",
   "execution_count": 838,
   "id": "e9957c9c-c48b-40c9-86c9-1db675b7cdcf",
   "metadata": {
    "jupyter": {
     "source_hidden": true
    },
    "tags": []
   },
   "outputs": [],
   "source": [
    "df\n",
    "df[\"pop\"]=df[\"pop\"]/1000000\n",
    "df.rename(columns={\"pop\":\"Population\",\"lifeExp\":\"Life Expectancy\",\"year\":\"Year\",\"continent\":\"Continent\"},inplace=True)"
   ]
  },
  {
   "cell_type": "code",
   "execution_count": 839,
   "id": "06bea65e-9e25-41dd-a945-605be528eb3d",
   "metadata": {
    "collapsed": true,
    "jupyter": {
     "outputs_hidden": true,
     "source_hidden": true
    },
    "tags": []
   },
   "outputs": [
    {
     "data": {
      "text/html": [
       "<div>\n",
       "<style scoped>\n",
       "    .dataframe tbody tr th:only-of-type {\n",
       "        vertical-align: middle;\n",
       "    }\n",
       "\n",
       "    .dataframe tbody tr th {\n",
       "        vertical-align: top;\n",
       "    }\n",
       "\n",
       "    .dataframe thead th {\n",
       "        text-align: right;\n",
       "    }\n",
       "</style>\n",
       "<table border=\"1\" class=\"dataframe\">\n",
       "  <thead>\n",
       "    <tr style=\"text-align: right;\">\n",
       "      <th></th>\n",
       "      <th>Year</th>\n",
       "      <th>Life Expectancy</th>\n",
       "      <th>Population</th>\n",
       "      <th>gdpPercap</th>\n",
       "    </tr>\n",
       "  </thead>\n",
       "  <tbody>\n",
       "    <tr>\n",
       "      <th>count</th>\n",
       "      <td>1704.000000000</td>\n",
       "      <td>1704.000000000</td>\n",
       "      <td>1704.000000000</td>\n",
       "      <td>1704.000000000</td>\n",
       "    </tr>\n",
       "    <tr>\n",
       "      <th>mean</th>\n",
       "      <td>1979.500000000</td>\n",
       "      <td>59.474439366</td>\n",
       "      <td>29.601212325</td>\n",
       "      <td>7215.327081212</td>\n",
       "    </tr>\n",
       "    <tr>\n",
       "      <th>std</th>\n",
       "      <td>17.265329509</td>\n",
       "      <td>12.917107415</td>\n",
       "      <td>106.157896744</td>\n",
       "      <td>9857.454542541</td>\n",
       "    </tr>\n",
       "    <tr>\n",
       "      <th>min</th>\n",
       "      <td>1952.000000000</td>\n",
       "      <td>23.599000000</td>\n",
       "      <td>0.060011000</td>\n",
       "      <td>241.165876500</td>\n",
       "    </tr>\n",
       "    <tr>\n",
       "      <th>25%</th>\n",
       "      <td>1965.750000000</td>\n",
       "      <td>48.198000000</td>\n",
       "      <td>2.793664000</td>\n",
       "      <td>1202.060309250</td>\n",
       "    </tr>\n",
       "    <tr>\n",
       "      <th>50%</th>\n",
       "      <td>1979.500000000</td>\n",
       "      <td>60.712500000</td>\n",
       "      <td>7.023595500</td>\n",
       "      <td>3531.846988500</td>\n",
       "    </tr>\n",
       "    <tr>\n",
       "      <th>75%</th>\n",
       "      <td>1993.250000000</td>\n",
       "      <td>70.845500000</td>\n",
       "      <td>19.585221750</td>\n",
       "      <td>9325.462346000</td>\n",
       "    </tr>\n",
       "    <tr>\n",
       "      <th>max</th>\n",
       "      <td>2007.000000000</td>\n",
       "      <td>82.603000000</td>\n",
       "      <td>1318.683096000</td>\n",
       "      <td>113523.132900000</td>\n",
       "    </tr>\n",
       "  </tbody>\n",
       "</table>\n",
       "</div>"
      ],
      "text/plain": [
       "                Year  Life Expectancy     Population        gdpPercap\n",
       "count 1704.000000000   1704.000000000 1704.000000000   1704.000000000\n",
       "mean  1979.500000000     59.474439366   29.601212325   7215.327081212\n",
       "std     17.265329509     12.917107415  106.157896744   9857.454542541\n",
       "min   1952.000000000     23.599000000    0.060011000    241.165876500\n",
       "25%   1965.750000000     48.198000000    2.793664000   1202.060309250\n",
       "50%   1979.500000000     60.712500000    7.023595500   3531.846988500\n",
       "75%   1993.250000000     70.845500000   19.585221750   9325.462346000\n",
       "max   2007.000000000     82.603000000 1318.683096000 113523.132900000"
      ]
     },
     "execution_count": 839,
     "metadata": {},
     "output_type": "execute_result"
    }
   ],
   "source": [
    "df.describe()"
   ]
  },
  {
   "cell_type": "code",
   "execution_count": 840,
   "id": "5a861314-5fe6-45bd-bc18-ebcc74f28c7b",
   "metadata": {
    "jupyter": {
     "source_hidden": true
    },
    "tags": []
   },
   "outputs": [],
   "source": [
    "lifeexp=df.pivot_table(index=\"Year\",aggfunc={\"Life Expectancy\":\"mean\"})"
   ]
  },
  {
   "cell_type": "code",
   "execution_count": 881,
   "id": "b1a57de1-3641-4738-b460-fee415574fdc",
   "metadata": {
    "jupyter": {
     "source_hidden": true
    },
    "tags": []
   },
   "outputs": [
    {
     "data": {
      "text/plain": [
       "<AxesSubplot:title={'center':'Life Expectancy (Years)'}, xlabel='Year'>"
      ]
     },
     "execution_count": 881,
     "metadata": {},
     "output_type": "execute_result"
    },
    {
     "data": {
      "image/png": "[encoded data removed]",
      "text/plain": [
       "<Figure size 432x288 with 1 Axes>"
      ]
     },
     "metadata": {
      "needs_background": "light"
     },
     "output_type": "display_data"
    }
   ],
   "source": [
    "lifeexp.plot.line(title=\"Life Expectancy (Years)\")"
   ]
  },
  {
   "cell_type": "code",
   "execution_count": 842,
   "id": "dbc1b3e0-d484-4171-816d-f31b968dd924",
   "metadata": {
    "jupyter": {
     "source_hidden": true
    },
    "tags": []
   },
   "outputs": [],
   "source": [
    "pop=df.pivot_table(index=\"Year\",aggfunc={\"Population\":\"mean\"})"
   ]
  },
  {
   "cell_type": "code",
   "execution_count": 876,
   "id": "7c20067d-60e2-41fe-ad44-272237aff0ce",
   "metadata": {
    "jupyter": {
     "source_hidden": true
    },
    "tags": []
   },
   "outputs": [
    {
     "data": {
      "text/plain": [
       "<AxesSubplot:title={'center':'Population (Millions)'}, xlabel='Year'>"
      ]
     },
     "execution_count": 876,
     "metadata": {},
     "output_type": "execute_result"
    },
    {
     "data": {
      "image/png": "[encoded data removed]",
      "text/plain": [
       "<Figure size 432x288 with 1 Axes>"
      ]
     },
     "metadata": {
      "needs_background": "light"
     },
     "output_type": "display_data"
    }
   ],
   "source": [
    "pop.plot.bar(title=\"Population (Millions)\")"
   ]
  },
  {
   "cell_type": "code",
   "execution_count": 844,
   "id": "7799aaa5-f834-459d-a24f-1e158834c039",
   "metadata": {
    "collapsed": true,
    "jupyter": {
     "outputs_hidden": true,
     "source_hidden": true
    },
    "tags": []
   },
   "outputs": [
    {
     "data": {
      "text/html": [
       "<div>\n",
       "<style scoped>\n",
       "    .dataframe tbody tr th:only-of-type {\n",
       "        vertical-align: middle;\n",
       "    }\n",
       "\n",
       "    .dataframe tbody tr th {\n",
       "        vertical-align: top;\n",
       "    }\n",
       "\n",
       "    .dataframe thead th {\n",
       "        text-align: right;\n",
       "    }\n",
       "</style>\n",
       "<table border=\"1\" class=\"dataframe\">\n",
       "  <thead>\n",
       "    <tr style=\"text-align: right;\">\n",
       "      <th></th>\n",
       "      <th>Continent</th>\n",
       "      <th>Year</th>\n",
       "      <th>Population</th>\n",
       "    </tr>\n",
       "  </thead>\n",
       "  <tbody>\n",
       "    <tr>\n",
       "      <th>1296</th>\n",
       "      <td>Africa</td>\n",
       "      <td>1952</td>\n",
       "      <td>0.060011000</td>\n",
       "    </tr>\n",
       "    <tr>\n",
       "      <th>1297</th>\n",
       "      <td>Africa</td>\n",
       "      <td>1957</td>\n",
       "      <td>0.061325000</td>\n",
       "    </tr>\n",
       "    <tr>\n",
       "      <th>420</th>\n",
       "      <td>Africa</td>\n",
       "      <td>1952</td>\n",
       "      <td>0.063149000</td>\n",
       "    </tr>\n",
       "    <tr>\n",
       "      <th>1298</th>\n",
       "      <td>Africa</td>\n",
       "      <td>1962</td>\n",
       "      <td>0.065345000</td>\n",
       "    </tr>\n",
       "    <tr>\n",
       "      <th>1299</th>\n",
       "      <td>Africa</td>\n",
       "      <td>1967</td>\n",
       "      <td>0.070787000</td>\n",
       "    </tr>\n",
       "    <tr>\n",
       "      <th>...</th>\n",
       "      <td>...</td>\n",
       "      <td>...</td>\n",
       "      <td>...</td>\n",
       "    </tr>\n",
       "    <tr>\n",
       "      <th>1135</th>\n",
       "      <td>Africa</td>\n",
       "      <td>1987</td>\n",
       "      <td>81.551520000</td>\n",
       "    </tr>\n",
       "    <tr>\n",
       "      <th>1136</th>\n",
       "      <td>Africa</td>\n",
       "      <td>1992</td>\n",
       "      <td>93.364244000</td>\n",
       "    </tr>\n",
       "    <tr>\n",
       "      <th>1137</th>\n",
       "      <td>Africa</td>\n",
       "      <td>1997</td>\n",
       "      <td>106.207839000</td>\n",
       "    </tr>\n",
       "    <tr>\n",
       "      <th>1138</th>\n",
       "      <td>Africa</td>\n",
       "      <td>2002</td>\n",
       "      <td>119.901274000</td>\n",
       "    </tr>\n",
       "    <tr>\n",
       "      <th>1139</th>\n",
       "      <td>Africa</td>\n",
       "      <td>2007</td>\n",
       "      <td>135.031164000</td>\n",
       "    </tr>\n",
       "  </tbody>\n",
       "</table>\n",
       "<p>624 rows × 3 columns</p>\n",
       "</div>"
      ],
      "text/plain": [
       "     Continent  Year    Population\n",
       "1296    Africa  1952   0.060011000\n",
       "1297    Africa  1957   0.061325000\n",
       "420     Africa  1952   0.063149000\n",
       "1298    Africa  1962   0.065345000\n",
       "1299    Africa  1967   0.070787000\n",
       "...        ...   ...           ...\n",
       "1135    Africa  1987  81.551520000\n",
       "1136    Africa  1992  93.364244000\n",
       "1137    Africa  1997 106.207839000\n",
       "1138    Africa  2002 119.901274000\n",
       "1139    Africa  2007 135.031164000\n",
       "\n",
       "[624 rows x 3 columns]"
      ]
     },
     "execution_count": 844,
     "metadata": {},
     "output_type": "execute_result"
    }
   ],
   "source": [
    "mask=df[\"Continent\"]==\"Africa\"\n",
    "africa=df[mask]\n",
    "africa=africa[[\"Continent\",\"Year\",\"Population\"]]\n",
    "africa.sort_values(\"Population\")"
   ]
  },
  {
   "cell_type": "code",
   "execution_count": 875,
   "id": "f5b1635d-2b70-4793-af8e-c0a8640f1d6e",
   "metadata": {
    "collapsed": true,
    "jupyter": {
     "outputs_hidden": true,
     "source_hidden": true
    },
    "tags": []
   },
   "outputs": [
    {
     "data": {
      "text/plain": [
       "<AxesSubplot:title={'center':'Population (Millions)'}, xlabel='Year'>"
      ]
     },
     "execution_count": 875,
     "metadata": {},
     "output_type": "execute_result"
    },
    {
     "data": {
      "image/png": "[encoded data removed]",
      "text/plain": [
       "<Figure size 432x288 with 1 Axes>"
      ]
     },
     "metadata": {
      "needs_background": "light"
     },
     "output_type": "display_data"
    }
   ],
   "source": [
    "pop=df.pivot_table(index=\"Year\",values=\"Population\",aggfunc={\"Population\":\"sum\"})#.plot(x=\"year\",y=\"Population\")\n",
    "pop.plot(y=\"Population\",title=\"Population (Millions)\")"
   ]
  },
  {
   "cell_type": "code",
   "execution_count": 846,
   "id": "f9af46d2-9233-402e-8e4b-52d8dacd16a0",
   "metadata": {
    "tags": []
   },
   "outputs": [
    {
     "data": {
      "text/html": [
       "<div>\n",
       "<style scoped>\n",
       "    .dataframe tbody tr th:only-of-type {\n",
       "        vertical-align: middle;\n",
       "    }\n",
       "\n",
       "    .dataframe tbody tr th {\n",
       "        vertical-align: top;\n",
       "    }\n",
       "\n",
       "    .dataframe thead th {\n",
       "        text-align: right;\n",
       "    }\n",
       "</style>\n",
       "<table border=\"1\" class=\"dataframe\">\n",
       "  <thead>\n",
       "    <tr style=\"text-align: right;\">\n",
       "      <th>Continent</th>\n",
       "      <th>Year</th>\n",
       "      <th>Africa</th>\n",
       "      <th>Americas</th>\n",
       "      <th>Asia</th>\n",
       "      <th>Europe</th>\n",
       "      <th>Oceania</th>\n",
       "    </tr>\n",
       "  </thead>\n",
       "  <tbody>\n",
       "    <tr>\n",
       "      <th>0</th>\n",
       "      <td>1952</td>\n",
       "      <td>39.135500000</td>\n",
       "      <td>53.279840000</td>\n",
       "      <td>46.314393939</td>\n",
       "      <td>64.408500000</td>\n",
       "      <td>69.255000000</td>\n",
       "    </tr>\n",
       "    <tr>\n",
       "      <th>1</th>\n",
       "      <td>1957</td>\n",
       "      <td>41.266346154</td>\n",
       "      <td>55.960280000</td>\n",
       "      <td>49.318544242</td>\n",
       "      <td>66.703066667</td>\n",
       "      <td>70.295000000</td>\n",
       "    </tr>\n",
       "    <tr>\n",
       "      <th>2</th>\n",
       "      <td>1962</td>\n",
       "      <td>43.319442308</td>\n",
       "      <td>58.398760000</td>\n",
       "      <td>51.563223030</td>\n",
       "      <td>68.539233333</td>\n",
       "      <td>71.085000000</td>\n",
       "    </tr>\n",
       "    <tr>\n",
       "      <th>3</th>\n",
       "      <td>1967</td>\n",
       "      <td>45.334538462</td>\n",
       "      <td>60.410920000</td>\n",
       "      <td>54.663640000</td>\n",
       "      <td>69.737600000</td>\n",
       "      <td>71.310000000</td>\n",
       "    </tr>\n",
       "    <tr>\n",
       "      <th>4</th>\n",
       "      <td>1972</td>\n",
       "      <td>47.450942308</td>\n",
       "      <td>62.394920000</td>\n",
       "      <td>57.319269091</td>\n",
       "      <td>70.775033333</td>\n",
       "      <td>71.910000000</td>\n",
       "    </tr>\n",
       "    <tr>\n",
       "      <th>5</th>\n",
       "      <td>1977</td>\n",
       "      <td>49.580423077</td>\n",
       "      <td>64.391560000</td>\n",
       "      <td>59.610556364</td>\n",
       "      <td>71.937766667</td>\n",
       "      <td>72.855000000</td>\n",
       "    </tr>\n",
       "    <tr>\n",
       "      <th>6</th>\n",
       "      <td>1982</td>\n",
       "      <td>51.592865385</td>\n",
       "      <td>66.228840000</td>\n",
       "      <td>62.617939394</td>\n",
       "      <td>72.806400000</td>\n",
       "      <td>74.290000000</td>\n",
       "    </tr>\n",
       "    <tr>\n",
       "      <th>7</th>\n",
       "      <td>1987</td>\n",
       "      <td>53.344788462</td>\n",
       "      <td>68.090720000</td>\n",
       "      <td>64.851181818</td>\n",
       "      <td>73.642166667</td>\n",
       "      <td>75.320000000</td>\n",
       "    </tr>\n",
       "    <tr>\n",
       "      <th>8</th>\n",
       "      <td>1992</td>\n",
       "      <td>53.629576923</td>\n",
       "      <td>69.568360000</td>\n",
       "      <td>66.537212121</td>\n",
       "      <td>74.440100000</td>\n",
       "      <td>76.945000000</td>\n",
       "    </tr>\n",
       "    <tr>\n",
       "      <th>9</th>\n",
       "      <td>1997</td>\n",
       "      <td>53.598269231</td>\n",
       "      <td>71.150480000</td>\n",
       "      <td>68.020515152</td>\n",
       "      <td>75.505166667</td>\n",
       "      <td>78.190000000</td>\n",
       "    </tr>\n",
       "    <tr>\n",
       "      <th>10</th>\n",
       "      <td>2002</td>\n",
       "      <td>53.325230769</td>\n",
       "      <td>72.422040000</td>\n",
       "      <td>69.233878788</td>\n",
       "      <td>76.700600000</td>\n",
       "      <td>79.740000000</td>\n",
       "    </tr>\n",
       "    <tr>\n",
       "      <th>11</th>\n",
       "      <td>2007</td>\n",
       "      <td>54.806038462</td>\n",
       "      <td>73.608120000</td>\n",
       "      <td>70.728484848</td>\n",
       "      <td>77.648600000</td>\n",
       "      <td>80.719500000</td>\n",
       "    </tr>\n",
       "  </tbody>\n",
       "</table>\n",
       "</div>"
      ],
      "text/plain": [
       "Continent  Year       Africa     Americas         Asia       Europe  \\\n",
       "0          1952 39.135500000 53.279840000 46.314393939 64.408500000   \n",
       "1          1957 41.266346154 55.960280000 49.318544242 66.703066667   \n",
       "2          1962 43.319442308 58.398760000 51.563223030 68.539233333   \n",
       "3          1967 45.334538462 60.410920000 54.663640000 69.737600000   \n",
       "4          1972 47.450942308 62.394920000 57.319269091 70.775033333   \n",
       "5          1977 49.580423077 64.391560000 59.610556364 71.937766667   \n",
       "6          1982 51.592865385 66.228840000 62.617939394 72.806400000   \n",
       "7          1987 53.344788462 68.090720000 64.851181818 73.642166667   \n",
       "8          1992 53.629576923 69.568360000 66.537212121 74.440100000   \n",
       "9          1997 53.598269231 71.150480000 68.020515152 75.505166667   \n",
       "10         2002 53.325230769 72.422040000 69.233878788 76.700600000   \n",
       "11         2007 54.806038462 73.608120000 70.728484848 77.648600000   \n",
       "\n",
       "Continent      Oceania  \n",
       "0         69.255000000  \n",
       "1         70.295000000  \n",
       "2         71.085000000  \n",
       "3         71.310000000  \n",
       "4         71.910000000  \n",
       "5         72.855000000  \n",
       "6         74.290000000  \n",
       "7         75.320000000  \n",
       "8         76.945000000  \n",
       "9         78.190000000  \n",
       "10        79.740000000  \n",
       "11        80.719500000  "
      ]
     },
     "execution_count": 846,
     "metadata": {},
     "output_type": "execute_result"
    }
   ],
   "source": [
    "dfall=df.pivot_table(index=[\"Year\"],columns=\"Continent\",values=\"Life Expectancy\",aggfunc={\"Life Expectancy\":\"mean\"})#.plot(x=\"year\",y=\"Population\")\n",
    "dfall=dfall.reset_index()\n",
    "dfall"
   ]
  },
  {
   "cell_type": "code",
   "execution_count": 847,
   "id": "1a483a9d-cb0b-413b-a470-7da45fdec91d",
   "metadata": {
    "jupyter": {
     "source_hidden": true
    },
    "tags": []
   },
   "outputs": [
    {
     "data": {
      "text/plain": [
       "<AxesSubplot:title={'center':'Average Life Expectancy'}, xlabel='Year'>"
      ]
     },
     "execution_count": 847,
     "metadata": {},
     "output_type": "execute_result"
    },
    {
     "data": {
      "image/png": "[encoded data removed]",
      "text/plain": [
       "<Figure size 432x288 with 1 Axes>"
      ]
     },
     "metadata": {
      "needs_background": "light"
     },
     "output_type": "display_data"
    }
   ],
   "source": [
    "dfall.plot.line(x=\"Year\",y=[\"Africa\",\"Americas\",\"Asia\",\"Europe\",\"Oceania\"],title=\"Average Life Expectancy\")\n"
   ]
  },
  {
   "cell_type": "code",
   "execution_count": 848,
   "id": "b3df5429-bca3-4e5b-8f9c-fa0734ede76c",
   "metadata": {
    "collapsed": true,
    "jupyter": {
     "outputs_hidden": true,
     "source_hidden": true
    },
    "tags": []
   },
   "outputs": [
    {
     "data": {
      "text/html": [
       "<div>\n",
       "<style scoped>\n",
       "    .dataframe tbody tr th:only-of-type {\n",
       "        vertical-align: middle;\n",
       "    }\n",
       "\n",
       "    .dataframe tbody tr th {\n",
       "        vertical-align: top;\n",
       "    }\n",
       "\n",
       "    .dataframe thead th {\n",
       "        text-align: right;\n",
       "    }\n",
       "</style>\n",
       "<table border=\"1\" class=\"dataframe\">\n",
       "  <thead>\n",
       "    <tr style=\"text-align: right;\">\n",
       "      <th>Continent</th>\n",
       "      <th>Year</th>\n",
       "      <th>Africa</th>\n",
       "      <th>Americas</th>\n",
       "      <th>Asia</th>\n",
       "      <th>Europe</th>\n",
       "      <th>Oceania</th>\n",
       "    </tr>\n",
       "  </thead>\n",
       "  <tbody>\n",
       "    <tr>\n",
       "      <th>0</th>\n",
       "      <td>1952</td>\n",
       "      <td>237.640501000</td>\n",
       "      <td>345.152446000</td>\n",
       "      <td>1395.357351000</td>\n",
       "      <td>418.120846000</td>\n",
       "      <td>10.686006000</td>\n",
       "    </tr>\n",
       "    <tr>\n",
       "      <th>1</th>\n",
       "      <td>1957</td>\n",
       "      <td>264.837738000</td>\n",
       "      <td>386.953916000</td>\n",
       "      <td>1562.780599000</td>\n",
       "      <td>437.890351000</td>\n",
       "      <td>11.941976000</td>\n",
       "    </tr>\n",
       "    <tr>\n",
       "      <th>2</th>\n",
       "      <td>1962</td>\n",
       "      <td>296.516865000</td>\n",
       "      <td>433.270254000</td>\n",
       "      <td>1696.357182000</td>\n",
       "      <td>460.355155000</td>\n",
       "      <td>13.283518000</td>\n",
       "    </tr>\n",
       "    <tr>\n",
       "      <th>3</th>\n",
       "      <td>1967</td>\n",
       "      <td>335.289489000</td>\n",
       "      <td>480.746623000</td>\n",
       "      <td>1905.662900000</td>\n",
       "      <td>481.178958000</td>\n",
       "      <td>14.600414000</td>\n",
       "    </tr>\n",
       "    <tr>\n",
       "      <th>4</th>\n",
       "      <td>1972</td>\n",
       "      <td>379.879541000</td>\n",
       "      <td>529.384210000</td>\n",
       "      <td>2150.972248000</td>\n",
       "      <td>500.635059000</td>\n",
       "      <td>16.106100000</td>\n",
       "    </tr>\n",
       "    <tr>\n",
       "      <th>5</th>\n",
       "      <td>1977</td>\n",
       "      <td>433.061021000</td>\n",
       "      <td>578.067699000</td>\n",
       "      <td>2384.513556000</td>\n",
       "      <td>517.164531000</td>\n",
       "      <td>17.239000000</td>\n",
       "    </tr>\n",
       "    <tr>\n",
       "      <th>6</th>\n",
       "      <td>1982</td>\n",
       "      <td>499.348587000</td>\n",
       "      <td>630.290920000</td>\n",
       "      <td>2610.135582000</td>\n",
       "      <td>531.266901000</td>\n",
       "      <td>18.394850000</td>\n",
       "    </tr>\n",
       "    <tr>\n",
       "      <th>7</th>\n",
       "      <td>1987</td>\n",
       "      <td>574.834110000</td>\n",
       "      <td>682.753971000</td>\n",
       "      <td>2871.220762000</td>\n",
       "      <td>543.094160000</td>\n",
       "      <td>19.574415000</td>\n",
       "    </tr>\n",
       "    <tr>\n",
       "      <th>8</th>\n",
       "      <td>1992</td>\n",
       "      <td>659.081517000</td>\n",
       "      <td>739.274104000</td>\n",
       "      <td>3133.292191000</td>\n",
       "      <td>558.142797000</td>\n",
       "      <td>20.919651000</td>\n",
       "    </tr>\n",
       "    <tr>\n",
       "      <th>9</th>\n",
       "      <td>1997</td>\n",
       "      <td>743.832984000</td>\n",
       "      <td>796.900410000</td>\n",
       "      <td>3383.285500000</td>\n",
       "      <td>568.944148000</td>\n",
       "      <td>22.241430000</td>\n",
       "    </tr>\n",
       "    <tr>\n",
       "      <th>10</th>\n",
       "      <td>2002</td>\n",
       "      <td>833.723916000</td>\n",
       "      <td>849.772762000</td>\n",
       "      <td>3601.802203000</td>\n",
       "      <td>578.223869000</td>\n",
       "      <td>23.454829000</td>\n",
       "    </tr>\n",
       "    <tr>\n",
       "      <th>11</th>\n",
       "      <td>2007</td>\n",
       "      <td>929.539692000</td>\n",
       "      <td>898.871184000</td>\n",
       "      <td>3811.953827000</td>\n",
       "      <td>586.098529000</td>\n",
       "      <td>24.549947000</td>\n",
       "    </tr>\n",
       "  </tbody>\n",
       "</table>\n",
       "</div>"
      ],
      "text/plain": [
       "Continent  Year        Africa      Americas           Asia        Europe  \\\n",
       "0          1952 237.640501000 345.152446000 1395.357351000 418.120846000   \n",
       "1          1957 264.837738000 386.953916000 1562.780599000 437.890351000   \n",
       "2          1962 296.516865000 433.270254000 1696.357182000 460.355155000   \n",
       "3          1967 335.289489000 480.746623000 1905.662900000 481.178958000   \n",
       "4          1972 379.879541000 529.384210000 2150.972248000 500.635059000   \n",
       "5          1977 433.061021000 578.067699000 2384.513556000 517.164531000   \n",
       "6          1982 499.348587000 630.290920000 2610.135582000 531.266901000   \n",
       "7          1987 574.834110000 682.753971000 2871.220762000 543.094160000   \n",
       "8          1992 659.081517000 739.274104000 3133.292191000 558.142797000   \n",
       "9          1997 743.832984000 796.900410000 3383.285500000 568.944148000   \n",
       "10         2002 833.723916000 849.772762000 3601.802203000 578.223869000   \n",
       "11         2007 929.539692000 898.871184000 3811.953827000 586.098529000   \n",
       "\n",
       "Continent      Oceania  \n",
       "0         10.686006000  \n",
       "1         11.941976000  \n",
       "2         13.283518000  \n",
       "3         14.600414000  \n",
       "4         16.106100000  \n",
       "5         17.239000000  \n",
       "6         18.394850000  \n",
       "7         19.574415000  \n",
       "8         20.919651000  \n",
       "9         22.241430000  \n",
       "10        23.454829000  \n",
       "11        24.549947000  "
      ]
     },
     "execution_count": 848,
     "metadata": {},
     "output_type": "execute_result"
    }
   ],
   "source": [
    "dfallpop=df.pivot_table(index=[\"Year\"],columns=\"Continent\",values=\"Population\",aggfunc={\"Population\":\"sum\"})#.plot(x=\"year\",y=\"Population\")\n",
    "dfallpop.reset_index(inplace=True)\n",
    "dfallpop"
   ]
  },
  {
   "cell_type": "code",
   "execution_count": 878,
   "id": "cea88a15-2f37-4cba-a476-dd76dd749053",
   "metadata": {
    "jupyter": {
     "source_hidden": true
    },
    "tags": []
   },
   "outputs": [
    {
     "data": {
      "text/plain": [
       "array([[<AxesSubplot:xlabel='Year'>, <AxesSubplot:xlabel='Year'>,\n",
       "        <AxesSubplot:xlabel='Year'>],\n",
       "       [<AxesSubplot:xlabel='Year'>, <AxesSubplot:xlabel='Year'>,\n",
       "        <AxesSubplot:xlabel='Year'>]], dtype=object)"
      ]
     },
     "execution_count": 878,
     "metadata": {},
     "output_type": "execute_result"
    },
    {
     "data": {
      "image/png": "[encoded data removed]",
      "text/plain": [
       "<Figure size 1440x720 with 6 Axes>"
      ]
     },
     "metadata": {
      "needs_background": "light"
     },
     "output_type": "display_data"
    }
   ],
   "source": [
    "dfallpop.plot.line(x=\"Year\",y=[\"Africa\",\"Americas\",\"Asia\",\"Europe\",\"Oceania\"],title=\"Population (Millions)\",subplots=True,layout=(2,3),figsize=(20,10))\n"
   ]
  },
  {
   "cell_type": "code",
   "execution_count": null,
   "id": "c0e99c55-2810-4c88-b397-4704dcddcf26",
   "metadata": {},
   "outputs": [],
   "source": []
  }
 ],
 "metadata": {
  "kernelspec": {
   "display_name": "Python 3 (ipykernel)",
   "language": "python",
   "name": "python3"
  },
  "language_info": {
   "codemirror_mode": {
    "name": "ipython",
    "version": 3
   },
   "file_extension": ".py",
   "mimetype": "text/x-python",
   "name": "python",
   "nbconvert_exporter": "python",
   "pygments_lexer": "ipython3",
   "version": "3.8.10"
  }
 },
 "nbformat": 4,
 "nbformat_minor": 5
}
